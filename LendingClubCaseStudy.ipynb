{
 "cells": [
  {
   "cell_type": "markdown",
   "id": "151061c6",
   "metadata": {},
   "source": [
    "# Lending Club - Case Study"
   ]
  },
  {
   "cell_type": "markdown",
   "id": "6bee3028",
   "metadata": {},
   "source": [
    "### Import and Prep the data"
   ]
  },
  {
   "cell_type": "markdown",
   "id": "7f60aabd",
   "metadata": {},
   "source": [
    "#### Imports"
   ]
  },
  {
   "cell_type": "code",
   "execution_count": 1,
   "id": "c76e33b6",
   "metadata": {},
   "outputs": [],
   "source": [
    "import numpy as np\n",
    "import pandas as pd\n",
    "import matplotlib.pyplot as plt\n",
    "import seaborn as sns\n",
    "\n",
    "import warnings\n",
    "warnings.filterwarnings('ignore')"
   ]
  },
  {
   "cell_type": "markdown",
   "id": "c8e7b6cf",
   "metadata": {},
   "source": [
    "#### Reading the input data (csv)"
   ]
  },
  {
   "cell_type": "code",
   "execution_count": 2,
   "id": "deea1759",
   "metadata": {},
   "outputs": [
    {
     "data": {
      "text/plain": [
       "(39717, 111)"
      ]
     },
     "execution_count": 2,
     "metadata": {},
     "output_type": "execute_result"
    }
   ],
   "source": [
    "loan = pd.read_csv('loan.csv', header=0)\n",
    "\n",
    "loan.shape"
   ]
  },
  {
   "cell_type": "markdown",
   "id": "08e4476a",
   "metadata": {},
   "source": [
    "#### Initial Analysis\n",
    "\n",
    "- The Data contains 38717 Records and 111 rows. \n",
    "- The data contains many columns which have only 1 unique value in the entire dataset. These columns may not be useful.."
   ]
  },
  {
   "cell_type": "code",
   "execution_count": null,
   "id": "d431477e",
   "metadata": {},
   "outputs": [],
   "source": []
  },
  {
   "cell_type": "code",
   "execution_count": 3,
   "id": "7aea1d14",
   "metadata": {},
   "outputs": [
    {
     "name": "stdout",
     "output_type": "stream",
     "text": [
      "pymnt_plan\n",
      "initial_list_status\n",
      "mths_since_last_major_derog\n",
      "policy_code\n",
      "application_type\n",
      "annual_inc_joint\n",
      "dti_joint\n",
      "verification_status_joint\n",
      "acc_now_delinq\n",
      "tot_coll_amt\n",
      "tot_cur_bal\n",
      "open_acc_6m\n",
      "open_il_6m\n",
      "open_il_12m\n",
      "open_il_24m\n",
      "mths_since_rcnt_il\n",
      "total_bal_il\n",
      "il_util\n",
      "open_rv_12m\n",
      "open_rv_24m\n",
      "max_bal_bc\n",
      "all_util\n",
      "total_rev_hi_lim\n",
      "inq_fi\n",
      "total_cu_tl\n",
      "inq_last_12m\n",
      "acc_open_past_24mths\n",
      "avg_cur_bal\n",
      "bc_open_to_buy\n",
      "bc_util\n",
      "delinq_amnt\n",
      "mo_sin_old_il_acct\n",
      "mo_sin_old_rev_tl_op\n",
      "mo_sin_rcnt_rev_tl_op\n",
      "mo_sin_rcnt_tl\n",
      "mort_acc\n",
      "mths_since_recent_bc\n",
      "mths_since_recent_bc_dlq\n",
      "mths_since_recent_inq\n",
      "mths_since_recent_revol_delinq\n",
      "num_accts_ever_120_pd\n",
      "num_actv_bc_tl\n",
      "num_actv_rev_tl\n",
      "num_bc_sats\n",
      "num_bc_tl\n",
      "num_il_tl\n",
      "num_op_rev_tl\n",
      "num_rev_accts\n",
      "num_rev_tl_bal_gt_0\n",
      "num_sats\n",
      "num_tl_120dpd_2m\n",
      "num_tl_30dpd\n",
      "num_tl_90g_dpd_24m\n",
      "num_tl_op_past_12m\n",
      "pct_tl_nvr_dlq\n",
      "percent_bc_gt_75\n",
      "tot_hi_cred_lim\n",
      "total_bal_ex_mort\n",
      "total_bc_limit\n",
      "total_il_high_credit_limit\n",
      "<class 'pandas.core.frame.DataFrame'>\n",
      "RangeIndex: 39717 entries, 0 to 39716\n",
      "Data columns (total 51 columns):\n",
      " #   Column                      Non-Null Count  Dtype  \n",
      "---  ------                      --------------  -----  \n",
      " 0   id                          39717 non-null  int64  \n",
      " 1   member_id                   39717 non-null  int64  \n",
      " 2   loan_amnt                   39717 non-null  int64  \n",
      " 3   funded_amnt                 39717 non-null  int64  \n",
      " 4   funded_amnt_inv             39717 non-null  float64\n",
      " 5   term                        39717 non-null  object \n",
      " 6   int_rate                    39717 non-null  object \n",
      " 7   installment                 39717 non-null  float64\n",
      " 8   grade                       39717 non-null  object \n",
      " 9   sub_grade                   39717 non-null  object \n",
      " 10  emp_title                   37258 non-null  object \n",
      " 11  emp_length                  38642 non-null  object \n",
      " 12  home_ownership              39717 non-null  object \n",
      " 13  annual_inc                  39717 non-null  float64\n",
      " 14  verification_status         39717 non-null  object \n",
      " 15  issue_d                     39717 non-null  object \n",
      " 16  loan_status                 39717 non-null  object \n",
      " 17  url                         39717 non-null  object \n",
      " 18  desc                        26777 non-null  object \n",
      " 19  purpose                     39717 non-null  object \n",
      " 20  title                       39706 non-null  object \n",
      " 21  zip_code                    39717 non-null  object \n",
      " 22  addr_state                  39717 non-null  object \n",
      " 23  dti                         39717 non-null  float64\n",
      " 24  delinq_2yrs                 39717 non-null  int64  \n",
      " 25  earliest_cr_line            39717 non-null  object \n",
      " 26  inq_last_6mths              39717 non-null  int64  \n",
      " 27  mths_since_last_delinq      14035 non-null  float64\n",
      " 28  mths_since_last_record      2786 non-null   float64\n",
      " 29  open_acc                    39717 non-null  int64  \n",
      " 30  pub_rec                     39717 non-null  int64  \n",
      " 31  revol_bal                   39717 non-null  int64  \n",
      " 32  revol_util                  39667 non-null  object \n",
      " 33  total_acc                   39717 non-null  int64  \n",
      " 34  out_prncp                   39717 non-null  float64\n",
      " 35  out_prncp_inv               39717 non-null  float64\n",
      " 36  total_pymnt                 39717 non-null  float64\n",
      " 37  total_pymnt_inv             39717 non-null  float64\n",
      " 38  total_rec_prncp             39717 non-null  float64\n",
      " 39  total_rec_int               39717 non-null  float64\n",
      " 40  total_rec_late_fee          39717 non-null  float64\n",
      " 41  recoveries                  39717 non-null  float64\n",
      " 42  collection_recovery_fee     39717 non-null  float64\n",
      " 43  last_pymnt_d                39646 non-null  object \n",
      " 44  last_pymnt_amnt             39717 non-null  float64\n",
      " 45  next_pymnt_d                1140 non-null   object \n",
      " 46  last_credit_pull_d          39715 non-null  object \n",
      " 47  collections_12_mths_ex_med  39661 non-null  float64\n",
      " 48  chargeoff_within_12_mths    39661 non-null  float64\n",
      " 49  pub_rec_bankruptcies        39020 non-null  float64\n",
      " 50  tax_liens                   39678 non-null  float64\n",
      "dtypes: float64(20), int64(10), object(21)\n",
      "memory usage: 15.5+ MB\n"
     ]
    }
   ],
   "source": [
    "### Columns that have only 1 value in the dataset. They doesn't help us in the analysis and can be ignored.\n",
    "for col in loan.columns:\n",
    "    if(len(loan[col].unique()) == 1) :\n",
    "        print(col)\n",
    "\n",
    "columns_to_work = loan.columns[loan.apply(lambda x: len(x.unique()) > 1)].tolist()\n",
    "loan = loan.loc[:, columns_to_work]\n",
    "loan.info()\n",
    "\n",
    "# to verify if the changes are implied.\n",
    "# loan.columns[loan.apply(lambda x: len(x.unique()) == 1)]"
   ]
  },
  {
   "cell_type": "markdown",
   "id": "6f2b2309",
   "metadata": {},
   "source": [
    "- The requested Loan Amount is listed in the column **loan_amnt**\n",
    "- The Loan amount suggested by the Lending Club at the time of loan issuance is listed in the column **funded_amnt**\n",
    "- The Loan approved by the investor authority (final loan amount is mentioned in the **funded_amnt_inv**)\n",
    "- The column **term** represents the tenure of the Loan. We have only 2 values here 36 months and 60 months. - *TODO:* clean the data to make it an integer.\n",
    "- The loan issue date is represented in the column **issue_d**. It has missing day column. - *TODO:* Convert this to a DateTime and extract the year and month details. \n",
    "- The interest rate of the loan approved is mentioned in the **int_rate** column - *TODO:* Clean the data by removing the % so as we can use it for bucketted analysis.\n",
    "- The **installment** column represents the monthly installments to be paid against the loan.\n",
    "- The **grade** and **sub-grade** are the internal categories assigned by the Lending Club. May be used to differentiate certain entries. \n",
    "\n",
    "- The column **emp_title** has incomplete information. However, if we can filter down the empty values, we may observe a patten.\n",
    "- The column **emp_length** has inadequate data;\n",
    "\n",
    "- The column **home_ownership** is an important attribute and can be analyzed to identify a correlation across the defaulters.\n",
    "- The column **annual_inc** has annual incomes and can be used for analysis to identify how it is impacting the defaulters.\n",
    "- The column **verification_status** has background verification status; an important attribute which can identify the defaulters.\n",
    "- The column **issue_d** is the loan issued date. We can extract the information of month and year from it. \n",
    "- The column **loan_status** signifies if the loan is fully paid/current/charged off. It may not make any sense to analyze the loans in current status. Hence, we can filter it out and compare the rest. \n",
    "- The column **pymnt_plan** has unique value 'n' across the data set; Hence it can be ignored. \n",
    "- The column **url**, desc are not useful for our current analysis; Hence, can be ignored. \n",
    "- The column **purpose** serves as an good categorical variable for our analysis.\n",
    "- The column **title** may be a title of the loan application and may not be a good candidate for analysis.\n",
    "- The column **zip_code**, state may be used to extract the impact demographics over the possibility of defaulting.\n",
    "- The column **dti** - Debit to Income, could be an important factor as it determines the economic potential of the member.\n",
    "- The column **pub_rec_bankruptcies** may help us identify the previous bankruptcies.\n"
   ]
  },
  {
   "cell_type": "markdown",
   "id": "2183fbb8",
   "metadata": {},
   "source": [
    "#### Check if any columns are null or has invalid data"
   ]
  },
  {
   "cell_type": "code",
   "execution_count": 4,
   "id": "688a3767",
   "metadata": {},
   "outputs": [
    {
     "data": {
      "text/plain": [
       "False"
      ]
     },
     "execution_count": 4,
     "metadata": {},
     "output_type": "execute_result"
    }
   ],
   "source": [
    "loan.columns.isnull().any()"
   ]
  },
  {
   "cell_type": "code",
   "execution_count": 5,
   "id": "295db8ff",
   "metadata": {},
   "outputs": [
    {
     "data": {
      "text/plain": [
       "False"
      ]
     },
     "execution_count": 5,
     "metadata": {},
     "output_type": "execute_result"
    }
   ],
   "source": [
    "loan.columns.isna().any()"
   ]
  },
  {
   "cell_type": "code",
   "execution_count": 6,
   "id": "3a380583",
   "metadata": {},
   "outputs": [],
   "source": [
    "# Convert term data to numeric\n",
    "\n",
    "loan['term'] = loan.term.apply(lambda x: int(x.replace(' months','')))\n",
    "# loan.term.head()\n",
    "\n",
    "# Convert the Interest Rate Column\n",
    "loan['int_rate'] = loan.int_rate.apply(lambda x: float(x.replace('%', '')))\n",
    "# loan.int_rate.head()\n",
    "\n",
    "# loan.head()"
   ]
  },
  {
   "cell_type": "code",
   "execution_count": 7,
   "id": "f1eb9c75",
   "metadata": {
    "scrolled": true
   },
   "outputs": [
    {
     "name": "stdout",
     "output_type": "stream",
     "text": [
      "<class 'pandas.core.frame.DataFrame'>\n",
      "RangeIndex: 39717 entries, 0 to 39716\n",
      "Data columns (total 51 columns):\n",
      " #   Column                      Non-Null Count  Dtype  \n",
      "---  ------                      --------------  -----  \n",
      " 0   id                          39717 non-null  int64  \n",
      " 1   member_id                   39717 non-null  int64  \n",
      " 2   loan_amnt                   39717 non-null  int64  \n",
      " 3   funded_amnt                 39717 non-null  int64  \n",
      " 4   funded_amnt_inv             39717 non-null  float64\n",
      " 5   term                        39717 non-null  int64  \n",
      " 6   int_rate                    39717 non-null  float64\n",
      " 7   installment                 39717 non-null  float64\n",
      " 8   grade                       39717 non-null  object \n",
      " 9   sub_grade                   39717 non-null  object \n",
      " 10  emp_title                   37258 non-null  object \n",
      " 11  emp_length                  38642 non-null  object \n",
      " 12  home_ownership              39717 non-null  object \n",
      " 13  annual_inc                  39717 non-null  float64\n",
      " 14  verification_status         39717 non-null  object \n",
      " 15  issue_d                     39717 non-null  object \n",
      " 16  loan_status                 39717 non-null  object \n",
      " 17  url                         39717 non-null  object \n",
      " 18  desc                        26777 non-null  object \n",
      " 19  purpose                     39717 non-null  object \n",
      " 20  title                       39706 non-null  object \n",
      " 21  zip_code                    39717 non-null  object \n",
      " 22  addr_state                  39717 non-null  object \n",
      " 23  dti                         39717 non-null  float64\n",
      " 24  delinq_2yrs                 39717 non-null  int64  \n",
      " 25  earliest_cr_line            39717 non-null  object \n",
      " 26  inq_last_6mths              39717 non-null  int64  \n",
      " 27  mths_since_last_delinq      14035 non-null  float64\n",
      " 28  mths_since_last_record      2786 non-null   float64\n",
      " 29  open_acc                    39717 non-null  int64  \n",
      " 30  pub_rec                     39717 non-null  int64  \n",
      " 31  revol_bal                   39717 non-null  int64  \n",
      " 32  revol_util                  39667 non-null  object \n",
      " 33  total_acc                   39717 non-null  int64  \n",
      " 34  out_prncp                   39717 non-null  float64\n",
      " 35  out_prncp_inv               39717 non-null  float64\n",
      " 36  total_pymnt                 39717 non-null  float64\n",
      " 37  total_pymnt_inv             39717 non-null  float64\n",
      " 38  total_rec_prncp             39717 non-null  float64\n",
      " 39  total_rec_int               39717 non-null  float64\n",
      " 40  total_rec_late_fee          39717 non-null  float64\n",
      " 41  recoveries                  39717 non-null  float64\n",
      " 42  collection_recovery_fee     39717 non-null  float64\n",
      " 43  last_pymnt_d                39646 non-null  object \n",
      " 44  last_pymnt_amnt             39717 non-null  float64\n",
      " 45  next_pymnt_d                1140 non-null   object \n",
      " 46  last_credit_pull_d          39715 non-null  object \n",
      " 47  collections_12_mths_ex_med  39661 non-null  float64\n",
      " 48  chargeoff_within_12_mths    39661 non-null  float64\n",
      " 49  pub_rec_bankruptcies        39020 non-null  float64\n",
      " 50  tax_liens                   39678 non-null  float64\n",
      "dtypes: float64(21), int64(11), object(19)\n",
      "memory usage: 15.5+ MB\n"
     ]
    }
   ],
   "source": [
    "loan.info()"
   ]
  },
  {
   "cell_type": "code",
   "execution_count": 8,
   "id": "3dcbd6de",
   "metadata": {},
   "outputs": [],
   "source": [
    "#from datetime import datetime\n",
    "#loan.issue_d.apply(lambda x: datetime.strptime(x, '%b-%y'))\n",
    "\n",
    "#loan.issue_d.DatetimeIndex.strftime('%b-%y')\n",
    "loan.issue_d = pd.to_datetime(loan.issue_d, format='%b-%y')\n",
    "loan.last_pymnt_d = pd.to_datetime(loan.last_pymnt_d, format='%b-%y')\n",
    "loan.next_pymnt_d = pd.to_datetime(loan.next_pymnt_d, format='%b-%y')\n",
    "loan.last_credit_pull_d = pd.to_datetime(loan.last_credit_pull_d, format='%b-%y')"
   ]
  },
  {
   "cell_type": "code",
   "execution_count": 9,
   "id": "c28bd2b1",
   "metadata": {
    "scrolled": false
   },
   "outputs": [],
   "source": [
    "# Clean the data: term   Obj-> float\n",
    "# Clean the data: int_rate  Obj-> float\n",
    "# Convert to Date: issue_d  Obj-> date\n",
    "loan.rename(columns={'issue_d' : 'issue_date', 'last_pymnt_d' : 'last_payment_date', 'next_pymnt_d' : 'next_payment_date', 'last_credit_pull_d' : 'last_credit_pull_date'}, inplace=True)\n",
    "loan.rename(columns={'loan_amnt' : 'loan_amount', 'funded_amnt': 'funded_amount', 'funded_amnt_inv': 'funded_amount_investor', 'int_rate': 'interest_rate'}, inplace=True)\n",
    "\n",
    "loan.rename(columns={'open_acc' : 'open_credit_lines', 'pub_rec' : 'public_derogatory_records', 'revol_bal' : 'credit_revolving_balance', 'revol_util' : 'credit_revolving_utilization_rate', 'total_acc' : 'total_credit_accounts', 'out_prncp' : 'outstanding_principal', 'out_prncp_inv' : 'outstanding_principal_investor'}, inplace=True)\n",
    "loan.rename(columns={'total_pymnt' : 'total_payment_received', 'total_pymnt_inv' : 'total_payment_received_investor_fund', 'total_rec_prncp' : 'total_received_principal', 'total_rec_int' : 'total_received_interest', 'total_rec_late_fee' :'total_received_late_fee', 'last_pymnt_amnt' : 'last_payment_amount'}, inplace=True)\n",
    "\n",
    "# Add columns for Issue year and month for analysis\n",
    "loan['issue_year'] = pd.DatetimeIndex(loan.issue_date).year\n",
    "loan['issue_month'] = pd.DatetimeIndex(loan.issue_date).month\n",
    "\n",
    "# loan.info()"
   ]
  },
  {
   "cell_type": "code",
   "execution_count": 10,
   "id": "2b1a70e3",
   "metadata": {
    "scrolled": false
   },
   "outputs": [],
   "source": [
    "# Clean the column emp_length\n",
    "\n",
    "def convert_emp(x):\n",
    "    if(x=='< 1 year'):\n",
    "        return 0\n",
    "    elif(x=='1 year'):\n",
    "        return 1\n",
    "    elif(x=='10+ years'):\n",
    "        return 10\n",
    "    elif(type(x) == str):\n",
    "        return x.replace(' years', '')\n",
    "    else:\n",
    "        return np.nan\n",
    "\n",
    "loan['emp_length'] = loan.emp_length.apply(lambda x: convert_emp(x))"
   ]
  },
  {
   "cell_type": "code",
   "execution_count": 11,
   "id": "79c4134d",
   "metadata": {},
   "outputs": [],
   "source": [
    "# calculate the mean emp length\n",
    "mean_emp_length = round(loan[-loan.emp_length.isna()].emp_length.apply(lambda x: int(x)).mean())\n",
    "#mean_emp_length = round(loan[-loan.emp_length.isna()].emp_length.apply(lambda x: int(x)).median())\n",
    "loan[loan.emp_length.isna()] = loan[loan.emp_length.isna()].apply(lambda x: mean_emp_length)\n",
    "loan.emp_length = loan.emp_length.apply(lambda x: int(x))\n",
    "\n",
    "# Verify the cleaned data.\n",
    "#loan.emp_length.unique()\n"
   ]
  },
  {
   "cell_type": "code",
   "execution_count": 12,
   "id": "033593b2",
   "metadata": {},
   "outputs": [
    {
     "name": "stdout",
     "output_type": "stream",
     "text": [
      "<class 'pandas.core.series.Series'>\n",
      "RangeIndex: 39717 entries, 0 to 39716\n",
      "Series name: emp_length\n",
      "Non-Null Count  Dtype\n",
      "--------------  -----\n",
      "39717 non-null  int64\n",
      "dtypes: int64(1)\n",
      "memory usage: 310.4 KB\n"
     ]
    }
   ],
   "source": [
    "loan.emp_length.info()"
   ]
  },
  {
   "cell_type": "code",
   "execution_count": 13,
   "id": "864a41fe",
   "metadata": {
    "scrolled": true
   },
   "outputs": [
    {
     "name": "stdout",
     "output_type": "stream",
     "text": [
      "<class 'pandas.core.frame.DataFrame'>\n",
      "Int64Index: 38619 entries, 0 to 39716\n",
      "Data columns (total 53 columns):\n",
      " #   Column                                Non-Null Count  Dtype  \n",
      "---  ------                                --------------  -----  \n",
      " 0   id                                    38619 non-null  int64  \n",
      " 1   member_id                             38619 non-null  int64  \n",
      " 2   loan_amount                           38619 non-null  int64  \n",
      " 3   funded_amount                         38619 non-null  int64  \n",
      " 4   funded_amount_investor                38619 non-null  float64\n",
      " 5   term                                  38619 non-null  int64  \n",
      " 6   interest_rate                         38619 non-null  float64\n",
      " 7   installment                           38619 non-null  float64\n",
      " 8   grade                                 38619 non-null  object \n",
      " 9   sub_grade                             38619 non-null  object \n",
      " 10  emp_title                             37211 non-null  object \n",
      " 11  emp_length                            38619 non-null  int64  \n",
      " 12  home_ownership                        38619 non-null  object \n",
      " 13  annual_inc                            38619 non-null  float64\n",
      " 14  verification_status                   38619 non-null  object \n",
      " 15  issue_date                            38619 non-null  object \n",
      " 16  loan_status                           38619 non-null  object \n",
      " 17  url                                   38619 non-null  object \n",
      " 18  desc                                  26522 non-null  object \n",
      " 19  purpose                               38619 non-null  object \n",
      " 20  title                                 38609 non-null  object \n",
      " 21  zip_code                              38619 non-null  object \n",
      " 22  addr_state                            38619 non-null  object \n",
      " 23  dti                                   38619 non-null  float64\n",
      " 24  delinq_2yrs                           38619 non-null  int64  \n",
      " 25  earliest_cr_line                      38619 non-null  object \n",
      " 26  inq_last_6mths                        38619 non-null  int64  \n",
      " 27  mths_since_last_delinq                14413 non-null  float64\n",
      " 28  mths_since_last_record                3696 non-null   float64\n",
      " 29  open_credit_lines                     38619 non-null  int64  \n",
      " 30  public_derogatory_records             38619 non-null  int64  \n",
      " 31  credit_revolving_balance              38619 non-null  int64  \n",
      " 32  credit_revolving_utilization_rate     38572 non-null  object \n",
      " 33  total_credit_accounts                 38619 non-null  int64  \n",
      " 34  outstanding_principal                 38619 non-null  float64\n",
      " 35  outstanding_principal_investor        38619 non-null  float64\n",
      " 36  total_payment_received                38619 non-null  float64\n",
      " 37  total_payment_received_investor_fund  38619 non-null  float64\n",
      " 38  total_received_principal              38619 non-null  float64\n",
      " 39  total_received_interest               38619 non-null  float64\n",
      " 40  total_received_late_fee               38619 non-null  float64\n",
      " 41  recoveries                            38619 non-null  float64\n",
      " 42  collection_recovery_fee               38619 non-null  float64\n",
      " 43  last_payment_date                     38553 non-null  object \n",
      " 44  last_payment_amount                   38619 non-null  float64\n",
      " 45  next_payment_date                     1075 non-null   object \n",
      " 46  last_credit_pull_date                 38617 non-null  object \n",
      " 47  collections_12_mths_ex_med            38563 non-null  float64\n",
      " 48  chargeoff_within_12_mths              38563 non-null  float64\n",
      " 49  pub_rec_bankruptcies                  37922 non-null  float64\n",
      " 50  tax_liens                             38580 non-null  float64\n",
      " 51  issue_year                            38619 non-null  int64  \n",
      " 52  issue_month                           38619 non-null  int64  \n",
      "dtypes: float64(21), int64(14), object(18)\n",
      "memory usage: 15.9+ MB\n"
     ]
    }
   ],
   "source": [
    "# Filterout the loan_status = 'Current' as it is an active/on-going loan\n",
    "non_current_loans = loan[loan.loan_status != 'Current']\n",
    "non_current_loans.info()"
   ]
  },
  {
   "cell_type": "code",
   "execution_count": null,
   "id": "cb54626d",
   "metadata": {},
   "outputs": [],
   "source": []
  },
  {
   "cell_type": "markdown",
   "id": "48b55b98",
   "metadata": {},
   "source": [
    "### Identify the Data"
   ]
  },
  {
   "cell_type": "code",
   "execution_count": 14,
   "id": "de16c7a8",
   "metadata": {},
   "outputs": [],
   "source": [
    "#Continuous Columns in the data\n",
    "continuous_columns = ['loan_amount', 'funded_amount', 'funded_amount_investor', 'interest_rate', 'installment', 'emp_length', 'inq_last_6mths', 'dti', 'credit_revolving_balance', 'credit_revolving_utilization_rate', 'outstanding_principal', 'outstanding_principal_investor', 'total_payment_received_investor_fund', 'total_received_principal', 'total_received_interest', 'total_received_late_fee', 'last_payment_amount']\n",
    "categorical_columns = ['term', 'grade', 'sub_grade', 'emp_title', 'verification_status', 'loan_status', 'purpose', 'zip_code', 'issue_year', 'issue_month']"
   ]
  },
  {
   "cell_type": "markdown",
   "id": "fd43d6c1",
   "metadata": {},
   "source": [
    "#### Univariate Analysis"
   ]
  },
  {
   "cell_type": "code",
   "execution_count": 15,
   "id": "f4966838",
   "metadata": {},
   "outputs": [
    {
     "data": {
      "text/plain": [
       "<AxesSubplot:xlabel='term', ylabel='Count'>"
      ]
     },
     "execution_count": 15,
     "metadata": {},
     "output_type": "execute_result"
    },
    {
     "data": {
      "image/png": "[encoded data removed]",
      "text/plain": [
       "<Figure size 640x480 with 1 Axes>"
      ]
     },
     "metadata": {},
     "output_type": "display_data"
    }
   ],
   "source": [
    "sns.histplot(data=non_current_loans, x='term')"
   ]
  },
  {
   "cell_type": "code",
   "execution_count": 16,
   "id": "f504e146",
   "metadata": {},
   "outputs": [
    {
     "ename": "AttributeError",
     "evalue": "'DataFrame' object has no attribute 'policy_code'",
     "output_type": "error",
     "traceback": [
      "\u001b[1;31m---------------------------------------------------------------------------\u001b[0m",
      "\u001b[1;31mAttributeError\u001b[0m                            Traceback (most recent call last)",
      "\u001b[1;32m~\\AppData\\Local\\Temp\\ipykernel_29952\\3110786549.py\u001b[0m in \u001b[0;36m<module>\u001b[1;34m\u001b[0m\n\u001b[1;32m----> 1\u001b[1;33m \u001b[0mloan\u001b[0m\u001b[1;33m.\u001b[0m\u001b[0mpolicy_code\u001b[0m\u001b[1;33m\u001b[0m\u001b[1;33m\u001b[0m\u001b[0m\n\u001b[0m",
      "\u001b[1;32mC:\\ProgramData\\Anaconda3\\lib\\site-packages\\pandas\\core\\generic.py\u001b[0m in \u001b[0;36m__getattr__\u001b[1;34m(self, name)\u001b[0m\n\u001b[0;32m   5573\u001b[0m         ):\n\u001b[0;32m   5574\u001b[0m             \u001b[1;32mreturn\u001b[0m \u001b[0mself\u001b[0m\u001b[1;33m[\u001b[0m\u001b[0mname\u001b[0m\u001b[1;33m]\u001b[0m\u001b[1;33m\u001b[0m\u001b[1;33m\u001b[0m\u001b[0m\n\u001b[1;32m-> 5575\u001b[1;33m         \u001b[1;32mreturn\u001b[0m \u001b[0mobject\u001b[0m\u001b[1;33m.\u001b[0m\u001b[0m__getattribute__\u001b[0m\u001b[1;33m(\u001b[0m\u001b[0mself\u001b[0m\u001b[1;33m,\u001b[0m \u001b[0mname\u001b[0m\u001b[1;33m)\u001b[0m\u001b[1;33m\u001b[0m\u001b[1;33m\u001b[0m\u001b[0m\n\u001b[0m\u001b[0;32m   5576\u001b[0m \u001b[1;33m\u001b[0m\u001b[0m\n\u001b[0;32m   5577\u001b[0m     \u001b[1;32mdef\u001b[0m \u001b[0m__setattr__\u001b[0m\u001b[1;33m(\u001b[0m\u001b[0mself\u001b[0m\u001b[1;33m,\u001b[0m \u001b[0mname\u001b[0m\u001b[1;33m:\u001b[0m \u001b[0mstr\u001b[0m\u001b[1;33m,\u001b[0m \u001b[0mvalue\u001b[0m\u001b[1;33m)\u001b[0m \u001b[1;33m->\u001b[0m \u001b[1;32mNone\u001b[0m\u001b[1;33m:\u001b[0m\u001b[1;33m\u001b[0m\u001b[1;33m\u001b[0m\u001b[0m\n",
      "\u001b[1;31mAttributeError\u001b[0m: 'DataFrame' object has no attribute 'policy_code'"
     ]
    }
   ],
   "source": [
    "loan.policy_code"
   ]
  },
  {
   "cell_type": "markdown",
   "id": "995621d6",
   "metadata": {},
   "source": [
    "#### Find the loans defaulted"
   ]
  },
  {
   "cell_type": "code",
   "execution_count": null,
   "id": "07fa198b",
   "metadata": {},
   "outputs": [],
   "source": [
    "loan.loan_status.unique()"
   ]
  },
  {
   "cell_type": "code",
   "execution_count": null,
   "id": "f6bd4ff1",
   "metadata": {},
   "outputs": [],
   "source": [
    "defaulted_loans = loan[loan.loan_status == 'Charged Off']\n",
    "defaulted_loans = defaulted_loans[['loan_amnt', 'purpose', 'dti', 'zip_code', 'addr_state', 'emp_length', 'policy_code']]\n",
    "defaulted_loans.info()"
   ]
  },
  {
   "cell_type": "code",
   "execution_count": null,
   "id": "439882b5",
   "metadata": {},
   "outputs": [],
   "source": [
    "defaulted_loans[['loan_amnt', 'purpose', 'dti', 'zip_code', 'addr_state', 'emp_length', 'policy_code']]\n",
    "defaulted_loans.head()"
   ]
  },
  {
   "cell_type": "code",
   "execution_count": null,
   "id": "1320ce7f",
   "metadata": {},
   "outputs": [],
   "source": []
  },
  {
   "cell_type": "code",
   "execution_count": null,
   "id": "e7f5e2ac",
   "metadata": {},
   "outputs": [],
   "source": []
  },
  {
   "cell_type": "code",
   "execution_count": null,
   "id": "9327c243",
   "metadata": {},
   "outputs": [],
   "source": [
    "numerical_col = ['loan_amnt', 'funded_amnt', 'funded_amnt_inv', 'annual_inc', 'revol_bal', 'revol_util', 'total_acc', 'total_pymnt', 'total_rec_prncp', 'total_rec_int', 'total_rec_late_fee']\n",
    "categorical_col = ['purpose', 'zip_code', 'installment', 'policy_code', 'home_ownership', 'application_type']"
   ]
  },
  {
   "cell_type": "code",
   "execution_count": null,
   "id": "53cc5578",
   "metadata": {},
   "outputs": [],
   "source": [
    "for col in loan.columns:\n",
    "    if(len(loan[col].unique()) > 1) :\n",
    "        print(col)"
   ]
  },
  {
   "cell_type": "code",
   "execution_count": null,
   "id": "bebd596a",
   "metadata": {},
   "outputs": [],
   "source": [
    "len(loan.application_type.unique())"
   ]
  },
  {
   "cell_type": "code",
   "execution_count": null,
   "id": "5acf70e8",
   "metadata": {},
   "outputs": [],
   "source": [
    "loan.groupby(by='id').info()"
   ]
  },
  {
   "cell_type": "code",
   "execution_count": null,
   "id": "0a9fbf5d",
   "metadata": {},
   "outputs": [],
   "source": []
  }
 ],
 "metadata": {
  "kernelspec": {
   "display_name": "Python 3 (ipykernel)",
   "language": "python",
   "name": "python3"
  },
  "language_info": {
   "codemirror_mode": {
    "name": "ipython",
    "version": 3
   },
   "file_extension": ".py",
   "mimetype": "text/x-python",
   "name": "python",
   "nbconvert_exporter": "python",
   "pygments_lexer": "ipython3",
   "version": "3.9.13"
  }
 },
 "nbformat": 4,
 "nbformat_minor": 5
}
